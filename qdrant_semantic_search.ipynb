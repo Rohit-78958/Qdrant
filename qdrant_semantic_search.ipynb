{
  "nbformat": 4,
  "nbformat_minor": 0,
  "metadata": {
    "colab": {
      "provenance": [],
      "authorship_tag": "ABX9TyN3FY6icpkIwPxXwM+j/h40",
      "include_colab_link": true
    },
    "kernelspec": {
      "name": "python3",
      "display_name": "Python 3"
    },
    "language_info": {
      "name": "python"
    },
    "widgets": {
      "application/vnd.jupyter.widget-state+json": {
        "adf6ce9ce66645cf9cc2ed062cb07f56": {
          "model_module": "@jupyter-widgets/controls",
          "model_name": "HBoxModel",
          "model_module_version": "1.5.0",
          "state": {
            "_dom_classes": [],
            "_model_module": "@jupyter-widgets/controls",
            "_model_module_version": "1.5.0",
            "_model_name": "HBoxModel",
            "_view_count": null,
            "_view_module": "@jupyter-widgets/controls",
            "_view_module_version": "1.5.0",
            "_view_name": "HBoxView",
            "box_style": "",
            "children": [
              "IPY_MODEL_ff70be22f0c94cdd863e5e519c0cf89c",
              "IPY_MODEL_ab4c6be811c446549848a11021547eb3",
              "IPY_MODEL_bf8162e92f1741828f21ebad0ec9e8b8"
            ],
            "layout": "IPY_MODEL_defda210bae6493995621b162dfb042e"
          }
        },
        "ff70be22f0c94cdd863e5e519c0cf89c": {
          "model_module": "@jupyter-widgets/controls",
          "model_name": "HTMLModel",
          "model_module_version": "1.5.0",
          "state": {
            "_dom_classes": [],
            "_model_module": "@jupyter-widgets/controls",
            "_model_module_version": "1.5.0",
            "_model_name": "HTMLModel",
            "_view_count": null,
            "_view_module": "@jupyter-widgets/controls",
            "_view_module_version": "1.5.0",
            "_view_name": "HTMLView",
            "description": "",
            "description_tooltip": null,
            "layout": "IPY_MODEL_3eb1d2ed4fb541d78f2b8cf6d7aca105",
            "placeholder": "​",
            "style": "IPY_MODEL_7bf25d45969f4f288ea9a3df1904e63b",
            "value": "Batches: 100%"
          }
        },
        "ab4c6be811c446549848a11021547eb3": {
          "model_module": "@jupyter-widgets/controls",
          "model_name": "FloatProgressModel",
          "model_module_version": "1.5.0",
          "state": {
            "_dom_classes": [],
            "_model_module": "@jupyter-widgets/controls",
            "_model_module_version": "1.5.0",
            "_model_name": "FloatProgressModel",
            "_view_count": null,
            "_view_module": "@jupyter-widgets/controls",
            "_view_module_version": "1.5.0",
            "_view_name": "ProgressView",
            "bar_style": "success",
            "description": "",
            "description_tooltip": null,
            "layout": "IPY_MODEL_529d5818597c47db819fa8a0bfc3b5b0",
            "max": 1265,
            "min": 0,
            "orientation": "horizontal",
            "style": "IPY_MODEL_1b7db1cc02b94a37ba5112ad868dca09",
            "value": 1265
          }
        },
        "bf8162e92f1741828f21ebad0ec9e8b8": {
          "model_module": "@jupyter-widgets/controls",
          "model_name": "HTMLModel",
          "model_module_version": "1.5.0",
          "state": {
            "_dom_classes": [],
            "_model_module": "@jupyter-widgets/controls",
            "_model_module_version": "1.5.0",
            "_model_name": "HTMLModel",
            "_view_count": null,
            "_view_module": "@jupyter-widgets/controls",
            "_view_module_version": "1.5.0",
            "_view_name": "HTMLView",
            "description": "",
            "description_tooltip": null,
            "layout": "IPY_MODEL_f276b81197004cd69d0b70cd302f1a06",
            "placeholder": "​",
            "style": "IPY_MODEL_7348a30d09334a5c9c8119374966e12a",
            "value": " 1265/1265 [28:47&lt;00:00,  6.26it/s]"
          }
        },
        "defda210bae6493995621b162dfb042e": {
          "model_module": "@jupyter-widgets/base",
          "model_name": "LayoutModel",
          "model_module_version": "1.2.0",
          "state": {
            "_model_module": "@jupyter-widgets/base",
            "_model_module_version": "1.2.0",
            "_model_name": "LayoutModel",
            "_view_count": null,
            "_view_module": "@jupyter-widgets/base",
            "_view_module_version": "1.2.0",
            "_view_name": "LayoutView",
            "align_content": null,
            "align_items": null,
            "align_self": null,
            "border": null,
            "bottom": null,
            "display": null,
            "flex": null,
            "flex_flow": null,
            "grid_area": null,
            "grid_auto_columns": null,
            "grid_auto_flow": null,
            "grid_auto_rows": null,
            "grid_column": null,
            "grid_gap": null,
            "grid_row": null,
            "grid_template_areas": null,
            "grid_template_columns": null,
            "grid_template_rows": null,
            "height": null,
            "justify_content": null,
            "justify_items": null,
            "left": null,
            "margin": null,
            "max_height": null,
            "max_width": null,
            "min_height": null,
            "min_width": null,
            "object_fit": null,
            "object_position": null,
            "order": null,
            "overflow": null,
            "overflow_x": null,
            "overflow_y": null,
            "padding": null,
            "right": null,
            "top": null,
            "visibility": null,
            "width": null
          }
        },
        "3eb1d2ed4fb541d78f2b8cf6d7aca105": {
          "model_module": "@jupyter-widgets/base",
          "model_name": "LayoutModel",
          "model_module_version": "1.2.0",
          "state": {
            "_model_module": "@jupyter-widgets/base",
            "_model_module_version": "1.2.0",
            "_model_name": "LayoutModel",
            "_view_count": null,
            "_view_module": "@jupyter-widgets/base",
            "_view_module_version": "1.2.0",
            "_view_name": "LayoutView",
            "align_content": null,
            "align_items": null,
            "align_self": null,
            "border": null,
            "bottom": null,
            "display": null,
            "flex": null,
            "flex_flow": null,
            "grid_area": null,
            "grid_auto_columns": null,
            "grid_auto_flow": null,
            "grid_auto_rows": null,
            "grid_column": null,
            "grid_gap": null,
            "grid_row": null,
            "grid_template_areas": null,
            "grid_template_columns": null,
            "grid_template_rows": null,
            "height": null,
            "justify_content": null,
            "justify_items": null,
            "left": null,
            "margin": null,
            "max_height": null,
            "max_width": null,
            "min_height": null,
            "min_width": null,
            "object_fit": null,
            "object_position": null,
            "order": null,
            "overflow": null,
            "overflow_x": null,
            "overflow_y": null,
            "padding": null,
            "right": null,
            "top": null,
            "visibility": null,
            "width": null
          }
        },
        "7bf25d45969f4f288ea9a3df1904e63b": {
          "model_module": "@jupyter-widgets/controls",
          "model_name": "DescriptionStyleModel",
          "model_module_version": "1.5.0",
          "state": {
            "_model_module": "@jupyter-widgets/controls",
            "_model_module_version": "1.5.0",
            "_model_name": "DescriptionStyleModel",
            "_view_count": null,
            "_view_module": "@jupyter-widgets/base",
            "_view_module_version": "1.2.0",
            "_view_name": "StyleView",
            "description_width": ""
          }
        },
        "529d5818597c47db819fa8a0bfc3b5b0": {
          "model_module": "@jupyter-widgets/base",
          "model_name": "LayoutModel",
          "model_module_version": "1.2.0",
          "state": {
            "_model_module": "@jupyter-widgets/base",
            "_model_module_version": "1.2.0",
            "_model_name": "LayoutModel",
            "_view_count": null,
            "_view_module": "@jupyter-widgets/base",
            "_view_module_version": "1.2.0",
            "_view_name": "LayoutView",
            "align_content": null,
            "align_items": null,
            "align_self": null,
            "border": null,
            "bottom": null,
            "display": null,
            "flex": null,
            "flex_flow": null,
            "grid_area": null,
            "grid_auto_columns": null,
            "grid_auto_flow": null,
            "grid_auto_rows": null,
            "grid_column": null,
            "grid_gap": null,
            "grid_row": null,
            "grid_template_areas": null,
            "grid_template_columns": null,
            "grid_template_rows": null,
            "height": null,
            "justify_content": null,
            "justify_items": null,
            "left": null,
            "margin": null,
            "max_height": null,
            "max_width": null,
            "min_height": null,
            "min_width": null,
            "object_fit": null,
            "object_position": null,
            "order": null,
            "overflow": null,
            "overflow_x": null,
            "overflow_y": null,
            "padding": null,
            "right": null,
            "top": null,
            "visibility": null,
            "width": null
          }
        },
        "1b7db1cc02b94a37ba5112ad868dca09": {
          "model_module": "@jupyter-widgets/controls",
          "model_name": "ProgressStyleModel",
          "model_module_version": "1.5.0",
          "state": {
            "_model_module": "@jupyter-widgets/controls",
            "_model_module_version": "1.5.0",
            "_model_name": "ProgressStyleModel",
            "_view_count": null,
            "_view_module": "@jupyter-widgets/base",
            "_view_module_version": "1.2.0",
            "_view_name": "StyleView",
            "bar_color": null,
            "description_width": ""
          }
        },
        "f276b81197004cd69d0b70cd302f1a06": {
          "model_module": "@jupyter-widgets/base",
          "model_name": "LayoutModel",
          "model_module_version": "1.2.0",
          "state": {
            "_model_module": "@jupyter-widgets/base",
            "_model_module_version": "1.2.0",
            "_model_name": "LayoutModel",
            "_view_count": null,
            "_view_module": "@jupyter-widgets/base",
            "_view_module_version": "1.2.0",
            "_view_name": "LayoutView",
            "align_content": null,
            "align_items": null,
            "align_self": null,
            "border": null,
            "bottom": null,
            "display": null,
            "flex": null,
            "flex_flow": null,
            "grid_area": null,
            "grid_auto_columns": null,
            "grid_auto_flow": null,
            "grid_auto_rows": null,
            "grid_column": null,
            "grid_gap": null,
            "grid_row": null,
            "grid_template_areas": null,
            "grid_template_columns": null,
            "grid_template_rows": null,
            "height": null,
            "justify_content": null,
            "justify_items": null,
            "left": null,
            "margin": null,
            "max_height": null,
            "max_width": null,
            "min_height": null,
            "min_width": null,
            "object_fit": null,
            "object_position": null,
            "order": null,
            "overflow": null,
            "overflow_x": null,
            "overflow_y": null,
            "padding": null,
            "right": null,
            "top": null,
            "visibility": null,
            "width": null
          }
        },
        "7348a30d09334a5c9c8119374966e12a": {
          "model_module": "@jupyter-widgets/controls",
          "model_name": "DescriptionStyleModel",
          "model_module_version": "1.5.0",
          "state": {
            "_model_module": "@jupyter-widgets/controls",
            "_model_module_version": "1.5.0",
            "_model_name": "DescriptionStyleModel",
            "_view_count": null,
            "_view_module": "@jupyter-widgets/base",
            "_view_module_version": "1.2.0",
            "_view_name": "StyleView",
            "description_width": ""
          }
        }
      }
    }
  },
  "cells": [
    {
      "cell_type": "markdown",
      "metadata": {
        "id": "view-in-github",
        "colab_type": "text"
      },
      "source": [
        "<a href=\"https://colab.research.google.com/github/Rohit-78958/Qdrant/blob/master/qdrant_semantic_search.ipynb\" target=\"_parent\"><img src=\"https://colab.research.google.com/assets/colab-badge.svg\" alt=\"Open In Colab\"/></a>"
      ]
    },
    {
      "cell_type": "code",
      "execution_count": null,
      "metadata": {
        "colab": {
          "base_uri": "https://localhost:8080/"
        },
        "id": "8eOS91L81tXs",
        "outputId": "46990fdf-90e8-44ee-f029-456b31bdf8bb"
      },
      "outputs": [
        {
          "output_type": "stream",
          "name": "stdout",
          "text": [
            "Requirement already satisfied: sentence-transformers in /usr/local/lib/python3.10/dist-packages (3.2.1)\n",
            "Requirement already satisfied: transformers<5.0.0,>=4.41.0 in /usr/local/lib/python3.10/dist-packages (from sentence-transformers) (4.44.2)\n",
            "Requirement already satisfied: tqdm in /usr/local/lib/python3.10/dist-packages (from sentence-transformers) (4.66.6)\n",
            "Requirement already satisfied: torch>=1.11.0 in /usr/local/lib/python3.10/dist-packages (from sentence-transformers) (2.5.0+cu121)\n",
            "Requirement already satisfied: scikit-learn in /usr/local/lib/python3.10/dist-packages (from sentence-transformers) (1.5.2)\n",
            "Requirement already satisfied: scipy in /usr/local/lib/python3.10/dist-packages (from sentence-transformers) (1.13.1)\n",
            "Requirement already satisfied: huggingface-hub>=0.20.0 in /usr/local/lib/python3.10/dist-packages (from sentence-transformers) (0.24.7)\n",
            "Requirement already satisfied: Pillow in /usr/local/lib/python3.10/dist-packages (from sentence-transformers) (10.4.0)\n",
            "Requirement already satisfied: filelock in /usr/local/lib/python3.10/dist-packages (from huggingface-hub>=0.20.0->sentence-transformers) (3.16.1)\n",
            "Requirement already satisfied: fsspec>=2023.5.0 in /usr/local/lib/python3.10/dist-packages (from huggingface-hub>=0.20.0->sentence-transformers) (2024.10.0)\n",
            "Requirement already satisfied: packaging>=20.9 in /usr/local/lib/python3.10/dist-packages (from huggingface-hub>=0.20.0->sentence-transformers) (24.1)\n",
            "Requirement already satisfied: pyyaml>=5.1 in /usr/local/lib/python3.10/dist-packages (from huggingface-hub>=0.20.0->sentence-transformers) (6.0.2)\n",
            "Requirement already satisfied: requests in /usr/local/lib/python3.10/dist-packages (from huggingface-hub>=0.20.0->sentence-transformers) (2.32.3)\n",
            "Requirement already satisfied: typing-extensions>=3.7.4.3 in /usr/local/lib/python3.10/dist-packages (from huggingface-hub>=0.20.0->sentence-transformers) (4.12.2)\n",
            "Requirement already satisfied: networkx in /usr/local/lib/python3.10/dist-packages (from torch>=1.11.0->sentence-transformers) (3.4.2)\n",
            "Requirement already satisfied: jinja2 in /usr/local/lib/python3.10/dist-packages (from torch>=1.11.0->sentence-transformers) (3.1.4)\n",
            "Requirement already satisfied: sympy==1.13.1 in /usr/local/lib/python3.10/dist-packages (from torch>=1.11.0->sentence-transformers) (1.13.1)\n",
            "Requirement already satisfied: mpmath<1.4,>=1.1.0 in /usr/local/lib/python3.10/dist-packages (from sympy==1.13.1->torch>=1.11.0->sentence-transformers) (1.3.0)\n",
            "Requirement already satisfied: numpy>=1.17 in /usr/local/lib/python3.10/dist-packages (from transformers<5.0.0,>=4.41.0->sentence-transformers) (1.26.4)\n",
            "Requirement already satisfied: regex!=2019.12.17 in /usr/local/lib/python3.10/dist-packages (from transformers<5.0.0,>=4.41.0->sentence-transformers) (2024.9.11)\n",
            "Requirement already satisfied: safetensors>=0.4.1 in /usr/local/lib/python3.10/dist-packages (from transformers<5.0.0,>=4.41.0->sentence-transformers) (0.4.5)\n",
            "Requirement already satisfied: tokenizers<0.20,>=0.19 in /usr/local/lib/python3.10/dist-packages (from transformers<5.0.0,>=4.41.0->sentence-transformers) (0.19.1)\n",
            "Requirement already satisfied: joblib>=1.2.0 in /usr/local/lib/python3.10/dist-packages (from scikit-learn->sentence-transformers) (1.4.2)\n",
            "Requirement already satisfied: threadpoolctl>=3.1.0 in /usr/local/lib/python3.10/dist-packages (from scikit-learn->sentence-transformers) (3.5.0)\n",
            "Requirement already satisfied: MarkupSafe>=2.0 in /usr/local/lib/python3.10/dist-packages (from jinja2->torch>=1.11.0->sentence-transformers) (3.0.2)\n",
            "Requirement already satisfied: charset-normalizer<4,>=2 in /usr/local/lib/python3.10/dist-packages (from requests->huggingface-hub>=0.20.0->sentence-transformers) (3.4.0)\n",
            "Requirement already satisfied: idna<4,>=2.5 in /usr/local/lib/python3.10/dist-packages (from requests->huggingface-hub>=0.20.0->sentence-transformers) (3.10)\n",
            "Requirement already satisfied: urllib3<3,>=1.21.1 in /usr/local/lib/python3.10/dist-packages (from requests->huggingface-hub>=0.20.0->sentence-transformers) (2.2.3)\n",
            "Requirement already satisfied: certifi>=2017.4.17 in /usr/local/lib/python3.10/dist-packages (from requests->huggingface-hub>=0.20.0->sentence-transformers) (2024.8.30)\n"
          ]
        }
      ],
      "source": [
        "pip install -U sentence-transformers"
      ]
    },
    {
      "cell_type": "code",
      "source": [
        "pip install -U qdrant-client"
      ],
      "metadata": {
        "colab": {
          "base_uri": "https://localhost:8080/"
        },
        "id": "5NN3kBwj3CXD",
        "outputId": "914fd3a3-24d2-4172-f559-720687bf82b1"
      },
      "execution_count": null,
      "outputs": [
        {
          "output_type": "stream",
          "name": "stdout",
          "text": [
            "Collecting qdrant-client\n",
            "  Downloading qdrant_client-1.12.1-py3-none-any.whl.metadata (10 kB)\n",
            "Requirement already satisfied: grpcio>=1.41.0 in /usr/local/lib/python3.10/dist-packages (from qdrant-client) (1.64.1)\n",
            "Collecting grpcio-tools>=1.41.0 (from qdrant-client)\n",
            "  Downloading grpcio_tools-1.67.1-cp310-cp310-manylinux_2_17_x86_64.manylinux2014_x86_64.whl.metadata (5.3 kB)\n",
            "Requirement already satisfied: httpx>=0.20.0 in /usr/local/lib/python3.10/dist-packages (from httpx[http2]>=0.20.0->qdrant-client) (0.27.2)\n",
            "Requirement already satisfied: numpy>=1.21 in /usr/local/lib/python3.10/dist-packages (from qdrant-client) (1.26.4)\n",
            "Collecting portalocker<3.0.0,>=2.7.0 (from qdrant-client)\n",
            "  Downloading portalocker-2.10.1-py3-none-any.whl.metadata (8.5 kB)\n",
            "Requirement already satisfied: pydantic>=1.10.8 in /usr/local/lib/python3.10/dist-packages (from qdrant-client) (2.9.2)\n",
            "Requirement already satisfied: urllib3<3,>=1.26.14 in /usr/local/lib/python3.10/dist-packages (from qdrant-client) (2.2.3)\n",
            "Collecting protobuf<6.0dev,>=5.26.1 (from grpcio-tools>=1.41.0->qdrant-client)\n",
            "  Downloading protobuf-5.28.3-cp38-abi3-manylinux2014_x86_64.whl.metadata (592 bytes)\n",
            "Collecting grpcio>=1.41.0 (from qdrant-client)\n",
            "  Downloading grpcio-1.67.1-cp310-cp310-manylinux_2_17_x86_64.manylinux2014_x86_64.whl.metadata (3.9 kB)\n",
            "Requirement already satisfied: setuptools in /usr/local/lib/python3.10/dist-packages (from grpcio-tools>=1.41.0->qdrant-client) (75.1.0)\n",
            "Requirement already satisfied: anyio in /usr/local/lib/python3.10/dist-packages (from httpx>=0.20.0->httpx[http2]>=0.20.0->qdrant-client) (3.7.1)\n",
            "Requirement already satisfied: certifi in /usr/local/lib/python3.10/dist-packages (from httpx>=0.20.0->httpx[http2]>=0.20.0->qdrant-client) (2024.8.30)\n",
            "Requirement already satisfied: httpcore==1.* in /usr/local/lib/python3.10/dist-packages (from httpx>=0.20.0->httpx[http2]>=0.20.0->qdrant-client) (1.0.6)\n",
            "Requirement already satisfied: idna in /usr/local/lib/python3.10/dist-packages (from httpx>=0.20.0->httpx[http2]>=0.20.0->qdrant-client) (3.10)\n",
            "Requirement already satisfied: sniffio in /usr/local/lib/python3.10/dist-packages (from httpx>=0.20.0->httpx[http2]>=0.20.0->qdrant-client) (1.3.1)\n",
            "Requirement already satisfied: h11<0.15,>=0.13 in /usr/local/lib/python3.10/dist-packages (from httpcore==1.*->httpx>=0.20.0->httpx[http2]>=0.20.0->qdrant-client) (0.14.0)\n",
            "Collecting h2<5,>=3 (from httpx[http2]>=0.20.0->qdrant-client)\n",
            "  Downloading h2-4.1.0-py3-none-any.whl.metadata (3.6 kB)\n",
            "Requirement already satisfied: annotated-types>=0.6.0 in /usr/local/lib/python3.10/dist-packages (from pydantic>=1.10.8->qdrant-client) (0.7.0)\n",
            "Requirement already satisfied: pydantic-core==2.23.4 in /usr/local/lib/python3.10/dist-packages (from pydantic>=1.10.8->qdrant-client) (2.23.4)\n",
            "Requirement already satisfied: typing-extensions>=4.6.1 in /usr/local/lib/python3.10/dist-packages (from pydantic>=1.10.8->qdrant-client) (4.12.2)\n",
            "Collecting hyperframe<7,>=6.0 (from h2<5,>=3->httpx[http2]>=0.20.0->qdrant-client)\n",
            "  Downloading hyperframe-6.0.1-py3-none-any.whl.metadata (2.7 kB)\n",
            "Collecting hpack<5,>=4.0 (from h2<5,>=3->httpx[http2]>=0.20.0->qdrant-client)\n",
            "  Downloading hpack-4.0.0-py3-none-any.whl.metadata (2.5 kB)\n",
            "Requirement already satisfied: exceptiongroup in /usr/local/lib/python3.10/dist-packages (from anyio->httpx>=0.20.0->httpx[http2]>=0.20.0->qdrant-client) (1.2.2)\n",
            "Downloading qdrant_client-1.12.1-py3-none-any.whl (267 kB)\n",
            "\u001b[2K   \u001b[90m━━━━━━━━━━━━━━━━━━━━━━━━━━━━━━━━━━━━━━━━\u001b[0m \u001b[32m267.2/267.2 kB\u001b[0m \u001b[31m10.8 MB/s\u001b[0m eta \u001b[36m0:00:00\u001b[0m\n",
            "\u001b[?25hDownloading grpcio_tools-1.67.1-cp310-cp310-manylinux_2_17_x86_64.manylinux2014_x86_64.whl (2.4 MB)\n",
            "\u001b[2K   \u001b[90m━━━━━━━━━━━━━━━━━━━━━━━━━━━━━━━━━━━━━━━━\u001b[0m \u001b[32m2.4/2.4 MB\u001b[0m \u001b[31m55.7 MB/s\u001b[0m eta \u001b[36m0:00:00\u001b[0m\n",
            "\u001b[?25hDownloading grpcio-1.67.1-cp310-cp310-manylinux_2_17_x86_64.manylinux2014_x86_64.whl (5.9 MB)\n",
            "\u001b[2K   \u001b[90m━━━━━━━━━━━━━━━━━━━━━━━━━━━━━━━━━━━━━━━━\u001b[0m \u001b[32m5.9/5.9 MB\u001b[0m \u001b[31m68.3 MB/s\u001b[0m eta \u001b[36m0:00:00\u001b[0m\n",
            "\u001b[?25hDownloading portalocker-2.10.1-py3-none-any.whl (18 kB)\n",
            "Downloading h2-4.1.0-py3-none-any.whl (57 kB)\n",
            "\u001b[2K   \u001b[90m━━━━━━━━━━━━━━━━━━━━━━━━━━━━━━━━━━━━━━━━\u001b[0m \u001b[32m57.5/57.5 kB\u001b[0m \u001b[31m4.1 MB/s\u001b[0m eta \u001b[36m0:00:00\u001b[0m\n",
            "\u001b[?25hDownloading protobuf-5.28.3-cp38-abi3-manylinux2014_x86_64.whl (316 kB)\n",
            "\u001b[2K   \u001b[90m━━━━━━━━━━━━━━━━━━━━━━━━━━━━━━━━━━━━━━━━\u001b[0m \u001b[32m316.6/316.6 kB\u001b[0m \u001b[31m19.4 MB/s\u001b[0m eta \u001b[36m0:00:00\u001b[0m\n",
            "\u001b[?25hDownloading hpack-4.0.0-py3-none-any.whl (32 kB)\n",
            "Downloading hyperframe-6.0.1-py3-none-any.whl (12 kB)\n",
            "Installing collected packages: protobuf, portalocker, hyperframe, hpack, grpcio, h2, grpcio-tools, qdrant-client\n",
            "  Attempting uninstall: protobuf\n",
            "    Found existing installation: protobuf 3.20.3\n",
            "    Uninstalling protobuf-3.20.3:\n",
            "      Successfully uninstalled protobuf-3.20.3\n",
            "  Attempting uninstall: grpcio\n",
            "    Found existing installation: grpcio 1.64.1\n",
            "    Uninstalling grpcio-1.64.1:\n",
            "      Successfully uninstalled grpcio-1.64.1\n",
            "\u001b[31mERROR: pip's dependency resolver does not currently take into account all the packages that are installed. This behaviour is the source of the following dependency conflicts.\n",
            "google-cloud-datastore 2.19.0 requires protobuf!=3.20.0,!=3.20.1,!=4.21.0,!=4.21.1,!=4.21.2,!=4.21.3,!=4.21.4,!=4.21.5,<5.0.0dev,>=3.19.5, but you have protobuf 5.28.3 which is incompatible.\n",
            "google-cloud-firestore 2.16.1 requires protobuf!=3.20.0,!=3.20.1,!=4.21.0,!=4.21.1,!=4.21.2,!=4.21.3,!=4.21.4,!=4.21.5,<5.0.0dev,>=3.19.5, but you have protobuf 5.28.3 which is incompatible.\n",
            "tensorboard 2.17.0 requires protobuf!=4.24.0,<5.0.0,>=3.19.6, but you have protobuf 5.28.3 which is incompatible.\n",
            "tensorflow 2.17.0 requires protobuf!=4.21.0,!=4.21.1,!=4.21.2,!=4.21.3,!=4.21.4,!=4.21.5,<5.0.0dev,>=3.20.3, but you have protobuf 5.28.3 which is incompatible.\n",
            "tensorflow-metadata 1.16.1 requires protobuf<4.21,>=3.20.3; python_version < \"3.11\", but you have protobuf 5.28.3 which is incompatible.\u001b[0m\u001b[31m\n",
            "\u001b[0mSuccessfully installed grpcio-1.67.1 grpcio-tools-1.67.1 h2-4.1.0 hpack-4.0.0 hyperframe-6.0.1 portalocker-2.10.1 protobuf-5.28.3 qdrant-client-1.12.1\n"
          ]
        }
      ]
    },
    {
      "cell_type": "markdown",
      "source": [],
      "metadata": {
        "id": "z_KcLivk1w7c"
      }
    },
    {
      "cell_type": "code",
      "source": [
        "from qdrant_client import models, QdrantClient\n",
        "from sentence_transformers import SentenceTransformer"
      ],
      "metadata": {
        "id": "g6IW8xdy3bLR"
      },
      "execution_count": null,
      "outputs": []
    },
    {
      "cell_type": "code",
      "source": [
        "encoder = SentenceTransformer(\"all-MiniLM-L6-v2\")"
      ],
      "metadata": {
        "id": "WdHOGzrn3kTh"
      },
      "execution_count": null,
      "outputs": []
    },
    {
      "cell_type": "code",
      "source": [
        "documents = [\n",
        "    {\n",
        "        \"name\": \"The Time Machine\",\n",
        "        \"description\": \"A man travels through time and witnesses the evolution of humanity.\",\n",
        "        \"author\": \"H.G. Wells\",\n",
        "        \"year\": 1895,\n",
        "    },\n",
        "    {\n",
        "        \"name\": \"Ender's Game\",\n",
        "        \"description\": \"A young boy is trained to become a military leader in a war against an alien race.\",\n",
        "        \"author\": \"Orson Scott Card\",\n",
        "        \"year\": 1985,\n",
        "    },\n",
        "    {\n",
        "        \"name\": \"Brave New World\",\n",
        "        \"description\": \"A dystopian society where people are genetically engineered and conditioned to conform to a strict social hierarchy.\",\n",
        "        \"author\": \"Aldous Huxley\",\n",
        "        \"year\": 1932,\n",
        "    },\n",
        "    {\n",
        "        \"name\": \"The Hitchhiker's Guide to the Galaxy\",\n",
        "        \"description\": \"A comedic science fiction series following the misadventures of an unwitting human and his alien friend.\",\n",
        "        \"author\": \"Douglas Adams\",\n",
        "        \"year\": 1979,\n",
        "    },\n",
        "    {\n",
        "        \"name\": \"Dune\",\n",
        "        \"description\": \"A desert planet is the site of political intrigue and power struggles.\",\n",
        "        \"author\": \"Frank Herbert\",\n",
        "        \"year\": 1965,\n",
        "    },\n",
        "    {\n",
        "        \"name\": \"Foundation\",\n",
        "        \"description\": \"A mathematician develops a science to predict the future of humanity and works to save civilization from collapse.\",\n",
        "        \"author\": \"Isaac Asimov\",\n",
        "        \"year\": 1951,\n",
        "    },\n",
        "    {\n",
        "        \"name\": \"Snow Crash\",\n",
        "        \"description\": \"A futuristic world where the internet has evolved into a virtual reality metaverse.\",\n",
        "        \"author\": \"Neal Stephenson\",\n",
        "        \"year\": 1992,\n",
        "    },\n",
        "    {\n",
        "        \"name\": \"Neuromancer\",\n",
        "        \"description\": \"A hacker is hired to pull off a near-impossible hack and gets pulled into a web of intrigue.\",\n",
        "        \"author\": \"William Gibson\",\n",
        "        \"year\": 1984,\n",
        "    },\n",
        "    {\n",
        "        \"name\": \"The War of the Worlds\",\n",
        "        \"description\": \"A Martian invasion of Earth throws humanity into chaos.\",\n",
        "        \"author\": \"H.G. Wells\",\n",
        "        \"year\": 1898,\n",
        "    },\n",
        "    {\n",
        "        \"name\": \"The Hunger Games\",\n",
        "        \"description\": \"A dystopian society where teenagers are forced to fight to the death in a televised spectacle.\",\n",
        "        \"author\": \"Suzanne Collins\",\n",
        "        \"year\": 2008,\n",
        "    },\n",
        "    {\n",
        "        \"name\": \"The Andromeda Strain\",\n",
        "        \"description\": \"A deadly virus from outer space threatens to wipe out humanity.\",\n",
        "        \"author\": \"Michael Crichton\",\n",
        "        \"year\": 1969,\n",
        "    },\n",
        "    {\n",
        "        \"name\": \"The Left Hand of Darkness\",\n",
        "        \"description\": \"A human ambassador is sent to a planet where the inhabitants are genderless and can change gender at will.\",\n",
        "        \"author\": \"Ursula K. Le Guin\",\n",
        "        \"year\": 1969,\n",
        "    },\n",
        "    {\n",
        "        \"name\": \"The Three-Body Problem\",\n",
        "        \"description\": \"Humans encounter an alien civilization that lives in a dying system.\",\n",
        "        \"author\": \"Liu Cixin\",\n",
        "        \"year\": 2008,\n",
        "    },\n",
        "]"
      ],
      "metadata": {
        "id": "vKmiZbjo3shy"
      },
      "execution_count": null,
      "outputs": []
    },
    {
      "cell_type": "code",
      "source": [
        "client = QdrantClient(\":memory:\")"
      ],
      "metadata": {
        "id": "9r3VgmnM32qU"
      },
      "execution_count": null,
      "outputs": []
    },
    {
      "cell_type": "code",
      "source": [
        "client.create_collection(\n",
        "    collection_name=\"my_books\",\n",
        "    vectors_config=models.VectorParams(\n",
        "        size=encoder.get_sentence_embedding_dimension(),  # Vector size is defined by used model\n",
        "        distance=models.Distance.COSINE,\n",
        "    ),\n",
        ")"
      ],
      "metadata": {
        "colab": {
          "base_uri": "https://localhost:8080/"
        },
        "id": "Ls6y-aW839et",
        "outputId": "90fe2f70-816a-4b27-8523-e50da270553d"
      },
      "execution_count": null,
      "outputs": [
        {
          "output_type": "execute_result",
          "data": {
            "text/plain": [
              "True"
            ]
          },
          "metadata": {},
          "execution_count": 82
        }
      ]
    },
    {
      "cell_type": "code",
      "source": [
        "client.upload_points(\n",
        "    collection_name=\"my_books\",\n",
        "    points=[\n",
        "        models.PointStruct(\n",
        "            id=idx, vector=encoder.encode(doc[\"description\"]).tolist(), payload=doc\n",
        "        )\n",
        "        for idx, doc in enumerate(documents)\n",
        "    ],\n",
        ")"
      ],
      "metadata": {
        "id": "iGXLuWZj4LXa"
      },
      "execution_count": null,
      "outputs": []
    },
    {
      "cell_type": "code",
      "source": [
        "hits = client.query_points(\n",
        "    collection_name=\"my_books\",\n",
        "    query=encoder.encode(\"alien invasion\").tolist(),\n",
        "    limit=1,\n",
        ").points\n",
        "\n",
        "for hit in hits:\n",
        "    print(hit.payload, \"score:\", hit.score)"
      ],
      "metadata": {
        "colab": {
          "base_uri": "https://localhost:8080/"
        },
        "id": "TOpIKh1U4PiR",
        "outputId": "84570adf-ecd6-42c0-b3b7-6053aa9b8f4d"
      },
      "execution_count": null,
      "outputs": [
        {
          "output_type": "stream",
          "name": "stdout",
          "text": [
            "{'name': 'The War of the Worlds', 'description': 'A Martian invasion of Earth throws humanity into chaos.', 'author': 'H.G. Wells', 'year': 1898} score: 0.5700933395837129\n"
          ]
        }
      ]
    },
    {
      "cell_type": "code",
      "source": [
        "hits = client.query_points(\n",
        "    collection_name=\"my_books\",\n",
        "    query=encoder.encode(\"alien invasion\").tolist(),\n",
        "    query_filter=models.Filter(\n",
        "        must=[models.FieldCondition(key=\"year\", range=models.Range(gte=2000))]\n",
        "    ),\n",
        "    limit=2,\n",
        ").points\n",
        "\n",
        "for hit in hits:\n",
        "    print(hit.payload, \"score:\", hit.score)"
      ],
      "metadata": {
        "colab": {
          "base_uri": "https://localhost:8080/"
        },
        "id": "ub7HQvEj4cSf",
        "outputId": "ae6643e9-7fb6-4175-9d41-1b316c9102a6"
      },
      "execution_count": null,
      "outputs": [
        {
          "output_type": "stream",
          "name": "stdout",
          "text": [
            "{'name': 'The Three-Body Problem', 'description': 'Humans encounter an alien civilization that lives in a dying system.', 'author': 'Liu Cixin', 'year': 2008} score: 0.4590293090137795\n",
            "{'name': 'The Hunger Games', 'description': 'A dystopian society where teenagers are forced to fight to the death in a televised spectacle.', 'author': 'Suzanne Collins', 'year': 2008} score: 0.16074508691053407\n"
          ]
        }
      ]
    },
    {
      "cell_type": "markdown",
      "source": [
        "**.............Neural Search Engine.....................**"
      ],
      "metadata": {
        "id": "fGaM4N_B-BDE"
      }
    },
    {
      "cell_type": "code",
      "source": [
        "!wget https://storage.googleapis.com/generall-shared-data/startups_demo.json"
      ],
      "metadata": {
        "id": "rVLEhKJB4vRR",
        "colab": {
          "base_uri": "https://localhost:8080/"
        },
        "outputId": "022046ca-675c-4e5d-e271-df92ec786e44"
      },
      "execution_count": null,
      "outputs": [
        {
          "output_type": "stream",
          "name": "stdout",
          "text": [
            "--2024-11-07 04:56:24--  https://storage.googleapis.com/generall-shared-data/startups_demo.json\n",
            "Resolving storage.googleapis.com (storage.googleapis.com)... 173.194.202.207, 173.194.203.207, 74.125.199.207, ...\n",
            "Connecting to storage.googleapis.com (storage.googleapis.com)|173.194.202.207|:443... connected.\n",
            "HTTP request sent, awaiting response... 200 OK\n",
            "Length: 22205751 (21M) [application/json]\n",
            "Saving to: ‘startups_demo.json’\n",
            "\n",
            "startups_demo.json  100%[===================>]  21.18M  23.3MB/s    in 0.9s    \n",
            "\n",
            "2024-11-07 04:56:25 (23.3 MB/s) - ‘startups_demo.json’ saved [22205751/22205751]\n",
            "\n"
          ]
        }
      ]
    },
    {
      "cell_type": "code",
      "source": [
        "pip install sentence-transformers numpy pandas tqdm\n"
      ],
      "metadata": {
        "colab": {
          "base_uri": "https://localhost:8080/"
        },
        "id": "3yZ_TAsH-NMc",
        "outputId": "ed534675-3c24-4fc8-8e8d-00b0a2210a34"
      },
      "execution_count": null,
      "outputs": [
        {
          "output_type": "stream",
          "name": "stdout",
          "text": [
            "Requirement already satisfied: sentence-transformers in /usr/local/lib/python3.10/dist-packages (3.2.1)\n",
            "Requirement already satisfied: numpy in /usr/local/lib/python3.10/dist-packages (1.26.4)\n",
            "Requirement already satisfied: pandas in /usr/local/lib/python3.10/dist-packages (2.2.2)\n",
            "Requirement already satisfied: tqdm in /usr/local/lib/python3.10/dist-packages (4.66.6)\n",
            "Requirement already satisfied: transformers<5.0.0,>=4.41.0 in /usr/local/lib/python3.10/dist-packages (from sentence-transformers) (4.44.2)\n",
            "Requirement already satisfied: torch>=1.11.0 in /usr/local/lib/python3.10/dist-packages (from sentence-transformers) (2.5.0+cu121)\n",
            "Requirement already satisfied: scikit-learn in /usr/local/lib/python3.10/dist-packages (from sentence-transformers) (1.5.2)\n",
            "Requirement already satisfied: scipy in /usr/local/lib/python3.10/dist-packages (from sentence-transformers) (1.13.1)\n",
            "Requirement already satisfied: huggingface-hub>=0.20.0 in /usr/local/lib/python3.10/dist-packages (from sentence-transformers) (0.24.7)\n",
            "Requirement already satisfied: Pillow in /usr/local/lib/python3.10/dist-packages (from sentence-transformers) (10.4.0)\n",
            "Requirement already satisfied: python-dateutil>=2.8.2 in /usr/local/lib/python3.10/dist-packages (from pandas) (2.8.2)\n",
            "Requirement already satisfied: pytz>=2020.1 in /usr/local/lib/python3.10/dist-packages (from pandas) (2024.2)\n",
            "Requirement already satisfied: tzdata>=2022.7 in /usr/local/lib/python3.10/dist-packages (from pandas) (2024.2)\n",
            "Requirement already satisfied: filelock in /usr/local/lib/python3.10/dist-packages (from huggingface-hub>=0.20.0->sentence-transformers) (3.16.1)\n",
            "Requirement already satisfied: fsspec>=2023.5.0 in /usr/local/lib/python3.10/dist-packages (from huggingface-hub>=0.20.0->sentence-transformers) (2024.10.0)\n",
            "Requirement already satisfied: packaging>=20.9 in /usr/local/lib/python3.10/dist-packages (from huggingface-hub>=0.20.0->sentence-transformers) (24.1)\n",
            "Requirement already satisfied: pyyaml>=5.1 in /usr/local/lib/python3.10/dist-packages (from huggingface-hub>=0.20.0->sentence-transformers) (6.0.2)\n",
            "Requirement already satisfied: requests in /usr/local/lib/python3.10/dist-packages (from huggingface-hub>=0.20.0->sentence-transformers) (2.32.3)\n",
            "Requirement already satisfied: typing-extensions>=3.7.4.3 in /usr/local/lib/python3.10/dist-packages (from huggingface-hub>=0.20.0->sentence-transformers) (4.12.2)\n",
            "Requirement already satisfied: six>=1.5 in /usr/local/lib/python3.10/dist-packages (from python-dateutil>=2.8.2->pandas) (1.16.0)\n",
            "Requirement already satisfied: networkx in /usr/local/lib/python3.10/dist-packages (from torch>=1.11.0->sentence-transformers) (3.4.2)\n",
            "Requirement already satisfied: jinja2 in /usr/local/lib/python3.10/dist-packages (from torch>=1.11.0->sentence-transformers) (3.1.4)\n",
            "Requirement already satisfied: sympy==1.13.1 in /usr/local/lib/python3.10/dist-packages (from torch>=1.11.0->sentence-transformers) (1.13.1)\n",
            "Requirement already satisfied: mpmath<1.4,>=1.1.0 in /usr/local/lib/python3.10/dist-packages (from sympy==1.13.1->torch>=1.11.0->sentence-transformers) (1.3.0)\n",
            "Requirement already satisfied: regex!=2019.12.17 in /usr/local/lib/python3.10/dist-packages (from transformers<5.0.0,>=4.41.0->sentence-transformers) (2024.9.11)\n",
            "Requirement already satisfied: safetensors>=0.4.1 in /usr/local/lib/python3.10/dist-packages (from transformers<5.0.0,>=4.41.0->sentence-transformers) (0.4.5)\n",
            "Requirement already satisfied: tokenizers<0.20,>=0.19 in /usr/local/lib/python3.10/dist-packages (from transformers<5.0.0,>=4.41.0->sentence-transformers) (0.19.1)\n",
            "Requirement already satisfied: joblib>=1.2.0 in /usr/local/lib/python3.10/dist-packages (from scikit-learn->sentence-transformers) (1.4.2)\n",
            "Requirement already satisfied: threadpoolctl>=3.1.0 in /usr/local/lib/python3.10/dist-packages (from scikit-learn->sentence-transformers) (3.5.0)\n",
            "Requirement already satisfied: MarkupSafe>=2.0 in /usr/local/lib/python3.10/dist-packages (from jinja2->torch>=1.11.0->sentence-transformers) (3.0.2)\n",
            "Requirement already satisfied: charset-normalizer<4,>=2 in /usr/local/lib/python3.10/dist-packages (from requests->huggingface-hub>=0.20.0->sentence-transformers) (3.4.0)\n",
            "Requirement already satisfied: idna<4,>=2.5 in /usr/local/lib/python3.10/dist-packages (from requests->huggingface-hub>=0.20.0->sentence-transformers) (3.10)\n",
            "Requirement already satisfied: urllib3<3,>=1.21.1 in /usr/local/lib/python3.10/dist-packages (from requests->huggingface-hub>=0.20.0->sentence-transformers) (2.2.3)\n",
            "Requirement already satisfied: certifi>=2017.4.17 in /usr/local/lib/python3.10/dist-packages (from requests->huggingface-hub>=0.20.0->sentence-transformers) (2024.8.30)\n"
          ]
        }
      ]
    },
    {
      "cell_type": "code",
      "source": [
        "from sentence_transformers import SentenceTransformer\n",
        "import numpy as np\n",
        "import json\n",
        "import pandas as pd\n",
        "from tqdm.notebook import tqdm"
      ],
      "metadata": {
        "id": "sj7uG2K6-2Ws"
      },
      "execution_count": null,
      "outputs": []
    },
    {
      "cell_type": "code",
      "source": [
        "model = SentenceTransformer(\n",
        "    \"all-MiniLM-L6-v2\"\n",
        ")"
      ],
      "metadata": {
        "id": "bly1ZBlT-7kF"
      },
      "execution_count": null,
      "outputs": []
    },
    {
      "cell_type": "code",
      "source": [
        "df = pd.read_json(\"./startups_demo.json\", lines=True)"
      ],
      "metadata": {
        "id": "Ww5EBbob_BZV"
      },
      "execution_count": null,
      "outputs": []
    },
    {
      "cell_type": "code",
      "source": [
        "vectors = model.encode(\n",
        "    [row.alt + \". \" + row.description for row in df.itertuples()],\n",
        "    show_progress_bar=True,\n",
        ")"
      ],
      "metadata": {
        "colab": {
          "base_uri": "https://localhost:8080/",
          "height": 49,
          "referenced_widgets": [
            "adf6ce9ce66645cf9cc2ed062cb07f56",
            "ff70be22f0c94cdd863e5e519c0cf89c",
            "ab4c6be811c446549848a11021547eb3",
            "bf8162e92f1741828f21ebad0ec9e8b8",
            "defda210bae6493995621b162dfb042e",
            "3eb1d2ed4fb541d78f2b8cf6d7aca105",
            "7bf25d45969f4f288ea9a3df1904e63b",
            "529d5818597c47db819fa8a0bfc3b5b0",
            "1b7db1cc02b94a37ba5112ad868dca09",
            "f276b81197004cd69d0b70cd302f1a06",
            "7348a30d09334a5c9c8119374966e12a"
          ]
        },
        "id": "8ZvuFUa3_E15",
        "outputId": "391673a3-9d5f-4d6b-955e-3aa6854cc1b9"
      },
      "execution_count": null,
      "outputs": [
        {
          "output_type": "display_data",
          "data": {
            "text/plain": [
              "Batches:   0%|          | 0/1265 [00:00<?, ?it/s]"
            ],
            "application/vnd.jupyter.widget-view+json": {
              "version_major": 2,
              "version_minor": 0,
              "model_id": "adf6ce9ce66645cf9cc2ed062cb07f56"
            }
          },
          "metadata": {}
        }
      ]
    },
    {
      "cell_type": "code",
      "source": [
        "vectors.shape\n",
        "# > (40474, 384)"
      ],
      "metadata": {
        "colab": {
          "base_uri": "https://localhost:8080/"
        },
        "id": "UXbXHFlO_P_b",
        "outputId": "3d030190-b129-47f3-c22f-0e136c833bd9"
      },
      "execution_count": null,
      "outputs": [
        {
          "output_type": "execute_result",
          "data": {
            "text/plain": [
              "(40474, 384)"
            ]
          },
          "metadata": {},
          "execution_count": 23
        }
      ]
    },
    {
      "cell_type": "code",
      "source": [
        "np.save(\"startup_vectors.npy\", vectors, allow_pickle=False)"
      ],
      "metadata": {
        "id": "JkcL3AGDPNc8"
      },
      "execution_count": null,
      "outputs": []
    },
    {
      "cell_type": "code",
      "source": [
        "# Import client library\n",
        "from qdrant_client import QdrantClient\n",
        "from qdrant_client.models import VectorParams, Distance\n",
        "\n"
      ],
      "metadata": {
        "id": "MR8WjZS5AGDh"
      },
      "execution_count": null,
      "outputs": []
    },
    {
      "cell_type": "code",
      "source": [
        "if not client.collection_exists(\"startups\"):\n",
        "    client.create_collection(\n",
        "        collection_name=\"startups\",\n",
        "        vectors_config=VectorParams(size=384, distance=Distance.COSINE),\n",
        "    )"
      ],
      "metadata": {
        "id": "ioA3LLCBAHBE"
      },
      "execution_count": null,
      "outputs": []
    },
    {
      "cell_type": "code",
      "source": [
        "fd = open(\"./startups_demo.json\")\n",
        "\n",
        "# payload is now an iterator over startup data\n",
        "payload = map(json.loads, fd)\n",
        "\n",
        "# Load all vectors into memory, numpy array works as iterable for itself.\n",
        "# Other option would be to use Mmap, if you don't want to load all data into RAM\n",
        "vectors = np.load(\"./startup_vectors.npy\")"
      ],
      "metadata": {
        "id": "S4N_lYm8AW50"
      },
      "execution_count": null,
      "outputs": []
    },
    {
      "cell_type": "code",
      "source": [
        "client.upload_collection(\n",
        "    collection_name=\"startups\",\n",
        "    vectors=vectors,\n",
        "    payload=payload,\n",
        "    ids=None,  # Vector ids will be assigned automatically\n",
        "    batch_size=256,  # How many vectors will be uploaded in a single request?\n",
        ")"
      ],
      "metadata": {
        "id": "8M7BNqVQPRmx"
      },
      "execution_count": null,
      "outputs": []
    },
    {
      "cell_type": "code",
      "source": [
        "hits = client.query_points(\n",
        "    collection_name=\"startups\",\n",
        "    query=encoder.encode(\"fashion\").tolist(),\n",
        "    query_filter=None\n",
        "    limit=3,\n",
        ").points\n",
        "\n",
        "#hits\n",
        "\n",
        "for hit in hits:\n",
        "    print(hit.payload, \"score:\", hit.score)"
      ],
      "metadata": {
        "colab": {
          "base_uri": "https://localhost:8080/"
        },
        "id": "_WrW6IGHPX1p",
        "outputId": "09a65656-e3a0-4104-dcc7-170049d46ea4"
      },
      "execution_count": null,
      "outputs": [
        {
          "output_type": "stream",
          "name": "stdout",
          "text": [
            "{'name': 'Stylesight', 'images': 'https://d1qb2nb5cznatu.cloudfront.net/startups/i/39623-ebef07b8fadfed7813ea596025cb4bce-thumb_jpg.jpg?buster=1408289603', 'alt': 'Stylesight -  fashion', 'description': '', 'link': 'http://www.stylesight.com/', 'city': 'New York'} score: 0.7719707483194118\n",
            "{'name': 'Shoptiques', 'images': 'https://d1qb2nb5cznatu.cloudfront.net/startups/i/79468-058a052c27ed13baf8e509dcd1178880-thumb_jpg.jpg?buster=1407426708', 'alt': 'Shoptiques -  fashion', 'description': '', 'link': 'http://www.shoptiques.com', 'city': 'New York'} score: 0.7548952769362056\n",
            "{'name': 'Fashion85', 'images': 'https://d1qb2nb5cznatu.cloudfront.net/startups/i/349642-8543683c8155c15bb6b152efcb96c34c-thumb_jpg.jpg?buster=1393298465', 'alt': 'Fashion85 -  mobile fashion', 'description': 'Fashion Crowd-Opinion App\\nEvery day, millions of women have several questions of style, either about the combination of looks, makeup, accessories or even questions related to purchasing products. Sometimes it is possible to rely on the opinion of close people, but not always they are available.\\nFor ...', 'link': 'http://www.fashion85.com', 'city': 'Sao Paulo'} score: 0.7427452173081819\n"
          ]
        }
      ]
    },
    {
      "cell_type": "code",
      "source": [
        "#must filter technique\n",
        "\n",
        "from qdrant_client import QdrantClient\n",
        "from sentence_transformers import SentenceTransformer\n",
        "\n",
        "\n",
        "class NeuralSearcher:\n",
        "    def __init__(self, collection_name):\n",
        "        self.collection_name = collection_name\n",
        "        # Initialize encoder model\n",
        "        self.model = SentenceTransformer(\"all-MiniLM-L6-v2\", device=\"cpu\")\n",
        "\n",
        "    def search(self, text: str):\n",
        "        # Convert text query into vector\n",
        "        vector = self.model.encode(text).tolist()\n",
        "\n",
        "\n",
        "        # Use `vector` for search for closest vectors in the collection\n",
        "        search_result = client.query_points(\n",
        "            collection_name=self.collection_name,\n",
        "            query=vector,\n",
        "            query_filter = models.Filter(\n",
        "    must=[\n",
        "        models.FieldCondition(\n",
        "            key=\"city\",\n",
        "            match=models.MatchValue(value=\"Chicago\")\n",
        "        )\n",
        "    ]\n",
        "),\n",
        "# If you don't want any filters for now\n",
        "            limit=5,  # 5 the most closest results is enough\n",
        "        ).points\n",
        "        # `search_result` contains found vector ids with similarity scores along with the stored payload\n",
        "        # In this function you are interested in payload only\n",
        "        # payloads = [hit.payload for hit in search_result]\n",
        "        # return payloads\n",
        "        return search_result"
      ],
      "metadata": {
        "id": "jcb7y7uiSjQf"
      },
      "execution_count": null,
      "outputs": []
    },
    {
      "cell_type": "code",
      "source": [
        "#must not filter technique\n",
        "\n",
        "from qdrant_client import QdrantClient\n",
        "from sentence_transformers import SentenceTransformer\n",
        "\n",
        "\n",
        "class NeuralSearcher:\n",
        "    def __init__(self, collection_name):\n",
        "        self.collection_name = collection_name\n",
        "        # Initialize encoder model\n",
        "        self.model = SentenceTransformer(\"all-MiniLM-L6-v2\", device=\"cpu\")\n",
        "\n",
        "    def search(self, text: str):\n",
        "        # Convert text query into vector\n",
        "        vector = self.model.encode(text).tolist()\n",
        "\n",
        "\n",
        "        # Use `vector` for search for closest vectors in the collection\n",
        "        search_result = client.query_points(\n",
        "            collection_name=self.collection_name,\n",
        "            query=vector,\n",
        "            query_filter = models.Filter(\n",
        "    must_not=[\n",
        "        models.FieldCondition(\n",
        "            key=\"city\",\n",
        "            match=models.MatchValue(value=\"Chicago\")\n",
        "        )\n",
        "    ]\n",
        "),\n",
        "# If you don't want any filters for now\n",
        "            limit=5,  # 5 the most closest results is enough\n",
        "        ).points\n",
        "        # `search_result` contains found vector ids with similarity scores along with the stored payload\n",
        "        # In this function you are interested in payload only\n",
        "        # payloads = [hit.payload for hit in search_result]\n",
        "        # return payloads\n",
        "        return search_result"
      ],
      "metadata": {
        "id": "ywQmCv31Ct0e"
      },
      "execution_count": null,
      "outputs": []
    },
    {
      "cell_type": "code",
      "source": [
        "#should filter technique\n",
        "\n",
        "from qdrant_client import QdrantClient\n",
        "from sentence_transformers import SentenceTransformer\n",
        "\n",
        "\n",
        "class NeuralSearcher:\n",
        "    def __init__(self, collection_name):\n",
        "        self.collection_name = collection_name\n",
        "        # Initialize encoder model\n",
        "        self.model = SentenceTransformer(\"all-MiniLM-L6-v2\", device=\"cpu\")\n",
        "\n",
        "    def search(self, text: str):\n",
        "        # Convert text query into vector\n",
        "        vector = self.model.encode(text).tolist()\n",
        "\n",
        "\n",
        "        # Use `vector` for search for closest vectors in the collection\n",
        "        search_result = client.query_points(\n",
        "            collection_name=self.collection_name,\n",
        "            query=vector,\n",
        "            query_filter = models.Filter(\n",
        "    should=[\n",
        "        models.FieldCondition(\n",
        "            key=\"city\",\n",
        "            match=models.MatchValue(value=\"Chicago\")\n",
        "        ),\n",
        "        models.FieldCondition(\n",
        "            key=\"city\",\n",
        "            match=models.MatchValue(value=\"New York\")\n",
        "        )\n",
        "    ]\n",
        ")\n",
        ",\n",
        "# If you don't want any filters for now\n",
        "            limit=5,  # 5 the most closest results is enough\n",
        "        ).points\n",
        "        # `search_result` contains found vector ids with similarity scores along with the stored payload\n",
        "        # In this function you are interested in payload only\n",
        "        # payloads = [hit.payload for hit in search_result]\n",
        "        # return payloads\n",
        "        return search_result"
      ],
      "metadata": {
        "id": "lr1ae-_NDQQz"
      },
      "execution_count": null,
      "outputs": []
    },
    {
      "cell_type": "code",
      "source": [
        "# Create a neural searcher instance\n",
        "neural_searcher = NeuralSearcher(collection_name=\"startups\")\n",
        "search_results = neural_searcher.search(text=\"pandora style fashion in new yoirk\")\n",
        "\n",
        "# search_results\n",
        "for hit in search_results:\n",
        "    print(hit.payload, \"score:\", hit.score)"
      ],
      "metadata": {
        "colab": {
          "base_uri": "https://localhost:8080/"
        },
        "id": "hbjdKd1pS_hU",
        "outputId": "f712a6b2-a690-4ed7-985e-e91a413b4b1f"
      },
      "execution_count": null,
      "outputs": [
        {
          "output_type": "stream",
          "name": "stdout",
          "text": [
            "{'name': 'Gekks', 'images': 'https://d1qb2nb5cznatu.cloudfront.net/startups/i/597007-2cbe730f50e417d66e92fa339ff5ae7f-thumb_jpg.jpg?buster=1422897483', 'alt': 'Gekks -  retail fashion Designer footwear', 'description': 'Innovative no-show sock\\nGekks are thin, breathable liner socks that grip to the inside of your boat shoes, loafers, drivers, and more. Our customers get to keep their sockless style by slipping in and out of their shoes barefoot, yet add comfort and anti-stench properties while inside ...', 'link': 'http://www.mygekks.com', 'city': 'Chicago'} score: 0.40567598066328314\n",
            "{'name': 'MaBaker', 'images': 'https://d1qb2nb5cznatu.cloudfront.net/startups/i/706547-18cac9fa2ec094d004c07bb41eaa6a9e-thumb_jpg.jpg?buster=1432234428', 'alt': 'MaBaker -  mobile social media platforms art online dating', 'description': 'Your tattoo can chat to another\\nNow your Tattoo can like and be liked by other Tattoos around it! TatChat’s aim is to attract and unite all people that bare body art, becoming the biggest walking & talking body art gallery worldwide, where one body art piece can talk to another. Anonymously ...', 'link': 'http://www.ma-baker.com', 'city': 'Chicago'} score: 0.38395728718718997\n",
            "{'name': 'Unlike This', 'images': 'https://d1qb2nb5cznatu.cloudfront.net/startups/i/25505-0458821cedf4c4eec6631f03c4e27860-thumb_jpg.jpg?buster=1317551062', 'alt': 'Unlike This -  women-focused professional networking artists globally', 'description': 'art and accessories boutique\\nUnlike This seeks to merchandise \"on trend\" lifestyle products of a higher aesthetic taste (art, fashion, accessories, and home furnishings) from emerging artists. The site functions as a gallery for up and coming artists who are gaining notoriety in both the art ...', 'link': 'http://UnlikeThis.com', 'city': 'Chicago'} score: 0.3754440369481761\n",
            "{'name': '4D Healthware', 'images': 'https://d1qb2nb5cznatu.cloudfront.net/startups/i/533932-eb9e34290dd0a9c4950e3c1a21227133-thumb_jpg.jpg?buster=1415937293', 'alt': '4D Healthware -  health care health care information technology', 'description': 'Pandora in Healthcare\\n4D Healthware is an integrated data solution for chronic disease management and prevention, driven by a device agnostic platform that utilizes applied analytics in the cloud.\\nThe Centers for Medicare & Medicaid Services has recently started paying monthly reimbursements ...', 'link': 'http://4dhealthware.com', 'city': 'Chicago'} score: 0.37534303198731755\n",
            "{'name': 'StyleSeek', 'images': 'https://d1qb2nb5cznatu.cloudfront.net/startups/i/3747-bb0338d641617b54f5234a1d3bfc6fd0-thumb_jpg.jpg?buster=1329158692', 'alt': 'StyleSeek -  e-commerce fashion mass customization online shopping', 'description': 'Personalized e-commerce for lifestyle products\\nStyleSeek is a personalized e-commerce site for lifestyle products.\\nIt works across the style spectrum by enabling users (both men and women) to create and refine their unique StyleDNA.\\nStyleSeek also promotes new products via its email newsletter, 100% personalized ...', 'link': 'http://styleseek.com', 'city': 'Chicago'} score: 0.37213091523516084\n"
          ]
        }
      ]
    },
    {
      "cell_type": "markdown",
      "source": [
        "**FILTERINGS**"
      ],
      "metadata": {
        "id": "W6QnEmsebz36"
      }
    },
    {
      "cell_type": "code",
      "source": [],
      "metadata": {
        "colab": {
          "base_uri": "https://localhost:8080/"
        },
        "collapsed": true,
        "id": "LZMVTIGib3MR",
        "outputId": "4a85c17b-d1df-4b99-981e-70e368c31382"
      },
      "execution_count": null,
      "outputs": [
        {
          "output_type": "stream",
          "name": "stdout",
          "text": [
            "Requirement already satisfied: qdrant-client>=1.8.2 in /usr/local/lib/python3.10/dist-packages (from qdrant-client[fastembed]>=1.8.2) (1.12.1)\n",
            "Requirement already satisfied: grpcio>=1.41.0 in /usr/local/lib/python3.10/dist-packages (from qdrant-client>=1.8.2->qdrant-client[fastembed]>=1.8.2) (1.67.1)\n",
            "Requirement already satisfied: grpcio-tools>=1.41.0 in /usr/local/lib/python3.10/dist-packages (from qdrant-client>=1.8.2->qdrant-client[fastembed]>=1.8.2) (1.67.1)\n",
            "Requirement already satisfied: httpx>=0.20.0 in /usr/local/lib/python3.10/dist-packages (from httpx[http2]>=0.20.0->qdrant-client>=1.8.2->qdrant-client[fastembed]>=1.8.2) (0.27.2)\n",
            "Requirement already satisfied: numpy>=1.21 in /usr/local/lib/python3.10/dist-packages (from qdrant-client>=1.8.2->qdrant-client[fastembed]>=1.8.2) (1.26.4)\n",
            "Requirement already satisfied: portalocker<3.0.0,>=2.7.0 in /usr/local/lib/python3.10/dist-packages (from qdrant-client>=1.8.2->qdrant-client[fastembed]>=1.8.2) (2.10.1)\n",
            "Requirement already satisfied: pydantic>=1.10.8 in /usr/local/lib/python3.10/dist-packages (from qdrant-client>=1.8.2->qdrant-client[fastembed]>=1.8.2) (2.9.2)\n",
            "Requirement already satisfied: urllib3<3,>=1.26.14 in /usr/local/lib/python3.10/dist-packages (from qdrant-client>=1.8.2->qdrant-client[fastembed]>=1.8.2) (2.2.3)\n",
            "Collecting fastembed==0.3.6 (from qdrant-client[fastembed]>=1.8.2)\n",
            "  Downloading fastembed-0.3.6-py3-none-any.whl.metadata (7.7 kB)\n",
            "Collecting PyStemmer<3.0.0,>=2.2.0 (from fastembed==0.3.6->qdrant-client[fastembed]>=1.8.2)\n",
            "  Downloading PyStemmer-2.2.0.3-cp310-cp310-manylinux_2_5_x86_64.manylinux1_x86_64.manylinux_2_17_x86_64.manylinux2014_x86_64.whl.metadata (3.2 kB)\n",
            "Requirement already satisfied: huggingface-hub<1.0,>=0.20 in /usr/local/lib/python3.10/dist-packages (from fastembed==0.3.6->qdrant-client[fastembed]>=1.8.2) (0.24.7)\n",
            "Collecting loguru<0.8.0,>=0.7.2 (from fastembed==0.3.6->qdrant-client[fastembed]>=1.8.2)\n",
            "  Downloading loguru-0.7.2-py3-none-any.whl.metadata (23 kB)\n",
            "Collecting mmh3<5.0,>=4.0 (from fastembed==0.3.6->qdrant-client[fastembed]>=1.8.2)\n",
            "  Downloading mmh3-4.1.0-cp310-cp310-manylinux_2_5_x86_64.manylinux1_x86_64.manylinux_2_17_x86_64.manylinux2014_x86_64.whl.metadata (13 kB)\n",
            "Collecting onnx<2.0.0,>=1.15.0 (from fastembed==0.3.6->qdrant-client[fastembed]>=1.8.2)\n",
            "  Downloading onnx-1.17.0-cp310-cp310-manylinux_2_17_x86_64.manylinux2014_x86_64.whl.metadata (16 kB)\n",
            "Collecting onnxruntime<2.0.0,>=1.17.0 (from fastembed==0.3.6->qdrant-client[fastembed]>=1.8.2)\n",
            "  Downloading onnxruntime-1.20.0-cp310-cp310-manylinux_2_27_x86_64.manylinux_2_28_x86_64.whl.metadata (4.4 kB)\n",
            "Requirement already satisfied: pillow<11.0.0,>=10.3.0 in /usr/local/lib/python3.10/dist-packages (from fastembed==0.3.6->qdrant-client[fastembed]>=1.8.2) (10.4.0)\n",
            "Requirement already satisfied: requests<3.0,>=2.31 in /usr/local/lib/python3.10/dist-packages (from fastembed==0.3.6->qdrant-client[fastembed]>=1.8.2) (2.32.3)\n",
            "Requirement already satisfied: snowballstemmer<3.0.0,>=2.2.0 in /usr/local/lib/python3.10/dist-packages (from fastembed==0.3.6->qdrant-client[fastembed]>=1.8.2) (2.2.0)\n",
            "Requirement already satisfied: tokenizers<1.0,>=0.15 in /usr/local/lib/python3.10/dist-packages (from fastembed==0.3.6->qdrant-client[fastembed]>=1.8.2) (0.19.1)\n",
            "Requirement already satisfied: tqdm<5.0,>=4.66 in /usr/local/lib/python3.10/dist-packages (from fastembed==0.3.6->qdrant-client[fastembed]>=1.8.2) (4.66.6)\n",
            "Requirement already satisfied: protobuf<6.0dev,>=5.26.1 in /usr/local/lib/python3.10/dist-packages (from grpcio-tools>=1.41.0->qdrant-client>=1.8.2->qdrant-client[fastembed]>=1.8.2) (5.28.3)\n",
            "Requirement already satisfied: setuptools in /usr/local/lib/python3.10/dist-packages (from grpcio-tools>=1.41.0->qdrant-client>=1.8.2->qdrant-client[fastembed]>=1.8.2) (75.1.0)\n",
            "Requirement already satisfied: anyio in /usr/local/lib/python3.10/dist-packages (from httpx>=0.20.0->httpx[http2]>=0.20.0->qdrant-client>=1.8.2->qdrant-client[fastembed]>=1.8.2) (3.7.1)\n",
            "Requirement already satisfied: certifi in /usr/local/lib/python3.10/dist-packages (from httpx>=0.20.0->httpx[http2]>=0.20.0->qdrant-client>=1.8.2->qdrant-client[fastembed]>=1.8.2) (2024.8.30)\n",
            "Requirement already satisfied: httpcore==1.* in /usr/local/lib/python3.10/dist-packages (from httpx>=0.20.0->httpx[http2]>=0.20.0->qdrant-client>=1.8.2->qdrant-client[fastembed]>=1.8.2) (1.0.6)\n",
            "Requirement already satisfied: idna in /usr/local/lib/python3.10/dist-packages (from httpx>=0.20.0->httpx[http2]>=0.20.0->qdrant-client>=1.8.2->qdrant-client[fastembed]>=1.8.2) (3.10)\n",
            "Requirement already satisfied: sniffio in /usr/local/lib/python3.10/dist-packages (from httpx>=0.20.0->httpx[http2]>=0.20.0->qdrant-client>=1.8.2->qdrant-client[fastembed]>=1.8.2) (1.3.1)\n",
            "Requirement already satisfied: h11<0.15,>=0.13 in /usr/local/lib/python3.10/dist-packages (from httpcore==1.*->httpx>=0.20.0->httpx[http2]>=0.20.0->qdrant-client>=1.8.2->qdrant-client[fastembed]>=1.8.2) (0.14.0)\n",
            "Requirement already satisfied: h2<5,>=3 in /usr/local/lib/python3.10/dist-packages (from httpx[http2]>=0.20.0->qdrant-client>=1.8.2->qdrant-client[fastembed]>=1.8.2) (4.1.0)\n",
            "Requirement already satisfied: annotated-types>=0.6.0 in /usr/local/lib/python3.10/dist-packages (from pydantic>=1.10.8->qdrant-client>=1.8.2->qdrant-client[fastembed]>=1.8.2) (0.7.0)\n",
            "Requirement already satisfied: pydantic-core==2.23.4 in /usr/local/lib/python3.10/dist-packages (from pydantic>=1.10.8->qdrant-client>=1.8.2->qdrant-client[fastembed]>=1.8.2) (2.23.4)\n",
            "Requirement already satisfied: typing-extensions>=4.6.1 in /usr/local/lib/python3.10/dist-packages (from pydantic>=1.10.8->qdrant-client>=1.8.2->qdrant-client[fastembed]>=1.8.2) (4.12.2)\n",
            "Requirement already satisfied: hyperframe<7,>=6.0 in /usr/local/lib/python3.10/dist-packages (from h2<5,>=3->httpx[http2]>=0.20.0->qdrant-client>=1.8.2->qdrant-client[fastembed]>=1.8.2) (6.0.1)\n",
            "Requirement already satisfied: hpack<5,>=4.0 in /usr/local/lib/python3.10/dist-packages (from h2<5,>=3->httpx[http2]>=0.20.0->qdrant-client>=1.8.2->qdrant-client[fastembed]>=1.8.2) (4.0.0)\n",
            "Requirement already satisfied: filelock in /usr/local/lib/python3.10/dist-packages (from huggingface-hub<1.0,>=0.20->fastembed==0.3.6->qdrant-client[fastembed]>=1.8.2) (3.16.1)\n",
            "Requirement already satisfied: fsspec>=2023.5.0 in /usr/local/lib/python3.10/dist-packages (from huggingface-hub<1.0,>=0.20->fastembed==0.3.6->qdrant-client[fastembed]>=1.8.2) (2024.10.0)\n",
            "Requirement already satisfied: packaging>=20.9 in /usr/local/lib/python3.10/dist-packages (from huggingface-hub<1.0,>=0.20->fastembed==0.3.6->qdrant-client[fastembed]>=1.8.2) (24.1)\n",
            "Requirement already satisfied: pyyaml>=5.1 in /usr/local/lib/python3.10/dist-packages (from huggingface-hub<1.0,>=0.20->fastembed==0.3.6->qdrant-client[fastembed]>=1.8.2) (6.0.2)\n",
            "Collecting coloredlogs (from onnxruntime<2.0.0,>=1.17.0->fastembed==0.3.6->qdrant-client[fastembed]>=1.8.2)\n",
            "  Downloading coloredlogs-15.0.1-py2.py3-none-any.whl.metadata (12 kB)\n",
            "Requirement already satisfied: flatbuffers in /usr/local/lib/python3.10/dist-packages (from onnxruntime<2.0.0,>=1.17.0->fastembed==0.3.6->qdrant-client[fastembed]>=1.8.2) (24.3.25)\n",
            "Requirement already satisfied: sympy in /usr/local/lib/python3.10/dist-packages (from onnxruntime<2.0.0,>=1.17.0->fastembed==0.3.6->qdrant-client[fastembed]>=1.8.2) (1.13.1)\n",
            "Requirement already satisfied: charset-normalizer<4,>=2 in /usr/local/lib/python3.10/dist-packages (from requests<3.0,>=2.31->fastembed==0.3.6->qdrant-client[fastembed]>=1.8.2) (3.4.0)\n",
            "Requirement already satisfied: exceptiongroup in /usr/local/lib/python3.10/dist-packages (from anyio->httpx>=0.20.0->httpx[http2]>=0.20.0->qdrant-client>=1.8.2->qdrant-client[fastembed]>=1.8.2) (1.2.2)\n",
            "Collecting humanfriendly>=9.1 (from coloredlogs->onnxruntime<2.0.0,>=1.17.0->fastembed==0.3.6->qdrant-client[fastembed]>=1.8.2)\n",
            "  Downloading humanfriendly-10.0-py2.py3-none-any.whl.metadata (9.2 kB)\n",
            "Requirement already satisfied: mpmath<1.4,>=1.1.0 in /usr/local/lib/python3.10/dist-packages (from sympy->onnxruntime<2.0.0,>=1.17.0->fastembed==0.3.6->qdrant-client[fastembed]>=1.8.2) (1.3.0)\n",
            "Downloading fastembed-0.3.6-py3-none-any.whl (55 kB)\n",
            "\u001b[2K   \u001b[90m━━━━━━━━━━━━━━━━━━━━━━━━━━━━━━━━━━━━━━━━\u001b[0m \u001b[32m55.6/55.6 kB\u001b[0m \u001b[31m3.3 MB/s\u001b[0m eta \u001b[36m0:00:00\u001b[0m\n",
            "\u001b[?25hDownloading loguru-0.7.2-py3-none-any.whl (62 kB)\n",
            "\u001b[2K   \u001b[90m━━━━━━━━━━━━━━━━━━━━━━━━━━━━━━━━━━━━━━━━\u001b[0m \u001b[32m62.5/62.5 kB\u001b[0m \u001b[31m4.7 MB/s\u001b[0m eta \u001b[36m0:00:00\u001b[0m\n",
            "\u001b[?25hDownloading mmh3-4.1.0-cp310-cp310-manylinux_2_5_x86_64.manylinux1_x86_64.manylinux_2_17_x86_64.manylinux2014_x86_64.whl (67 kB)\n",
            "\u001b[2K   \u001b[90m━━━━━━━━━━━━━━━━━━━━━━━━━━━━━━━━━━━━━━━━\u001b[0m \u001b[32m67.6/67.6 kB\u001b[0m \u001b[31m5.3 MB/s\u001b[0m eta \u001b[36m0:00:00\u001b[0m\n",
            "\u001b[?25hDownloading onnx-1.17.0-cp310-cp310-manylinux_2_17_x86_64.manylinux2014_x86_64.whl (16.0 MB)\n",
            "\u001b[2K   \u001b[90m━━━━━━━━━━━━━━━━━━━━━━━━━━━━━━━━━━━━━━━━\u001b[0m \u001b[32m16.0/16.0 MB\u001b[0m \u001b[31m57.6 MB/s\u001b[0m eta \u001b[36m0:00:00\u001b[0m\n",
            "\u001b[?25hDownloading onnxruntime-1.20.0-cp310-cp310-manylinux_2_27_x86_64.manylinux_2_28_x86_64.whl (13.3 MB)\n",
            "\u001b[2K   \u001b[90m━━━━━━━━━━━━━━━━━━━━━━━━━━━━━━━━━━━━━━━━\u001b[0m \u001b[32m13.3/13.3 MB\u001b[0m \u001b[31m65.1 MB/s\u001b[0m eta \u001b[36m0:00:00\u001b[0m\n",
            "\u001b[?25hDownloading PyStemmer-2.2.0.3-cp310-cp310-manylinux_2_5_x86_64.manylinux1_x86_64.manylinux_2_17_x86_64.manylinux2014_x86_64.whl (646 kB)\n",
            "\u001b[2K   \u001b[90m━━━━━━━━━━━━━━━━━━━━━━━━━━━━━━━━━━━━━━━━\u001b[0m \u001b[32m646.7/646.7 kB\u001b[0m \u001b[31m30.0 MB/s\u001b[0m eta \u001b[36m0:00:00\u001b[0m\n",
            "\u001b[?25hDownloading coloredlogs-15.0.1-py2.py3-none-any.whl (46 kB)\n",
            "\u001b[2K   \u001b[90m━━━━━━━━━━━━━━━━━━━━━━━━━━━━━━━━━━━━━━━━\u001b[0m \u001b[32m46.0/46.0 kB\u001b[0m \u001b[31m3.4 MB/s\u001b[0m eta \u001b[36m0:00:00\u001b[0m\n",
            "\u001b[?25hDownloading humanfriendly-10.0-py2.py3-none-any.whl (86 kB)\n",
            "\u001b[2K   \u001b[90m━━━━━━━━━━━━━━━━━━━━━━━━━━━━━━━━━━━━━━━━\u001b[0m \u001b[32m86.8/86.8 kB\u001b[0m \u001b[31m5.7 MB/s\u001b[0m eta \u001b[36m0:00:00\u001b[0m\n",
            "\u001b[?25hInstalling collected packages: PyStemmer, mmh3, onnx, loguru, humanfriendly, coloredlogs, onnxruntime, fastembed\n",
            "Successfully installed PyStemmer-2.2.0.3 coloredlogs-15.0.1 fastembed-0.3.6 humanfriendly-10.0 loguru-0.7.2 mmh3-4.1.0 onnx-1.17.0 onnxruntime-1.20.0\n"
          ]
        }
      ]
    },
    {
      "cell_type": "code",
      "source": [],
      "metadata": {
        "id": "U2bcgE_9iM3n"
      },
      "execution_count": null,
      "outputs": []
    }
  ]
}